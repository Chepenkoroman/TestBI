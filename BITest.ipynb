{
  "nbformat": 4,
  "nbformat_minor": 0,
  "metadata": {
    "colab": {
      "provenance": []
    },
    "kernelspec": {
      "name": "python3",
      "display_name": "Python 3"
    },
    "language_info": {
      "name": "python"
    }
  },
  "cells": [
    {
      "cell_type": "markdown",
      "source": [
        "# Importing python's libraries"
      ],
      "metadata": {
        "id": "52D4PcFPKVzx"
      }
    },
    {
      "cell_type": "code",
      "execution_count": 1,
      "metadata": {
        "colab": {
          "base_uri": "https://localhost:8080/"
        },
        "id": "D4R1oDOXWCxT",
        "outputId": "f3095f34-99ac-4563-cedd-94991584df91"
      },
      "outputs": [
        {
          "output_type": "stream",
          "name": "stdout",
          "text": [
            "Looking in indexes: https://pypi.org/simple, https://us-python.pkg.dev/colab-wheels/public/simple/\n",
            "Requirement already satisfied: pandas in /usr/local/lib/python3.8/dist-packages (1.3.5)\n",
            "Requirement already satisfied: numpy>=1.17.3 in /usr/local/lib/python3.8/dist-packages (from pandas) (1.22.4)\n",
            "Requirement already satisfied: python-dateutil>=2.7.3 in /usr/local/lib/python3.8/dist-packages (from pandas) (2.8.2)\n",
            "Requirement already satisfied: pytz>=2017.3 in /usr/local/lib/python3.8/dist-packages (from pandas) (2022.7.1)\n",
            "Requirement already satisfied: six>=1.5 in /usr/local/lib/python3.8/dist-packages (from python-dateutil>=2.7.3->pandas) (1.15.0)\n",
            "Looking in indexes: https://pypi.org/simple, https://us-python.pkg.dev/colab-wheels/public/simple/\n",
            "Requirement already satisfied: xlrd in /usr/local/lib/python3.8/dist-packages (1.2.0)\n"
          ]
        }
      ],
      "source": [
        "!pip install pandas\n",
        "!pip install xlrd"
      ]
    },
    {
      "cell_type": "code",
      "source": [
        "import pandas as pd"
      ],
      "metadata": {
        "id": "Xu4qsCyOWMSA"
      },
      "execution_count": 2,
      "outputs": []
    },
    {
      "cell_type": "code",
      "source": [
        "import sqlite3"
      ],
      "metadata": {
        "id": "bfSBE2t2YnNV"
      },
      "execution_count": 3,
      "outputs": []
    },
    {
      "cell_type": "code",
      "source": [
        "import matplotlib.pyplot as plt\n",
        "import matplotlib.lines as lines\n",
        "import matplotlib as mpl\n",
        "import matplotlib.gridspec as gridspec "
      ],
      "metadata": {
        "id": "_IEiR44ZxAM9"
      },
      "execution_count": 4,
      "outputs": []
    },
    {
      "cell_type": "code",
      "source": [
        "import numpy as np"
      ],
      "metadata": {
        "id": "0JI9g1VlyqhE"
      },
      "execution_count": 5,
      "outputs": []
    },
    {
      "cell_type": "markdown",
      "source": [
        "# SQL Tasks\n",
        "I decided to chose python to complete this test. \n"
      ],
      "metadata": {
        "id": "Ylqyo4IRKfNE"
      }
    },
    {
      "cell_type": "code",
      "source": [
        "client_accounts_df = pd.read_excel('TestBI.xlsx', sheet_name='Client_Accounts')\n",
        "financial_transactions_df = pd.read_excel('TestBI.xlsx', sheet_name='Financial_transactions')\n",
        "agents_df = pd.read_excel('TestBI.xlsx', sheet_name='Agents')\n",
        "\n",
        "\n",
        "conn = sqlite3.connect(':memory:')\n",
        "client_accounts_df.to_sql('Client_Accounts', conn, if_exists='replace', index=True)\n",
        "financial_transactions_df.to_sql('Financial_transactions', conn, if_exists='replace', index=True)\n",
        "agents_df.to_sql('Agents', conn, if_exists='replace', index=True)"
      ],
      "metadata": {
        "id": "JB8IrmFQOa8h"
      },
      "execution_count": 6,
      "outputs": []
    },
    {
      "cell_type": "code",
      "source": [
        "# 1. Produce a list of transactions with the Account No of the client and the Name of the Agent that owns the transaction\n",
        "query1 = '''\n",
        "SELECT ft.vtigeraccountid, ca.account_no, ag.Name\n",
        "FROM Financial_transactions ft\n",
        "JOIN Client_Accounts ca ON ft.vtigeraccountid = ca.accountid\n",
        "JOIN Agents ag ON ca.assigned_to = ag.Id\n",
        "'''\n",
        "result1 = pd.read_sql_query(query1, conn)\n",
        "print(\"Result of query 1:\\n\", result1)"
      ],
      "metadata": {
        "colab": {
          "base_uri": "https://localhost:8080/"
        },
        "id": "7ssj4Ts1OxAa",
        "outputId": "14e7e4b6-e31d-40ef-d11a-3ddda126bd53"
      },
      "execution_count": 7,
      "outputs": [
        {
          "output_type": "stream",
          "name": "stdout",
          "text": [
            "Result of query 1:\n",
            "       vtigeraccountid   account_no              Name\n",
            "0            15234947  ACC11255533    Alberto Sylvie\n",
            "1            15234947  ACC11255533    Alberto Sylvie\n",
            "2            15191356  ACC11253099         Ruth Aron\n",
            "3            14803587  ACC11228524         Ruth Aron\n",
            "4            14803587  ACC11228524         Ruth Aron\n",
            "...               ...          ...               ...\n",
            "9062         14749855  ACC11225431         Ruth Aron\n",
            "9063         14568430  ACC11208743     Zachary Kelly\n",
            "9064         12533276  ACC11113094  Lawrence Frances\n",
            "9065         14568430  ACC11208743     Zachary Kelly\n",
            "9066         15030492  ACC11244563     Zachary Kelly\n",
            "\n",
            "[9067 rows x 3 columns]\n"
          ]
        }
      ]
    },
    {
      "cell_type": "code",
      "source": [
        "result1.head(5)"
      ],
      "metadata": {
        "colab": {
          "base_uri": "https://localhost:8080/",
          "height": 201
        },
        "id": "hM6HpDy-PCEz",
        "outputId": "356355b5-7442-4f9d-d725-6e106c58b89b"
      },
      "execution_count": 8,
      "outputs": [
        {
          "output_type": "execute_result",
          "data": {
            "text/plain": [
              "   vtigeraccountid   account_no            Name\n",
              "0         15234947  ACC11255533  Alberto Sylvie\n",
              "1         15234947  ACC11255533  Alberto Sylvie\n",
              "2         15191356  ACC11253099       Ruth Aron\n",
              "3         14803587  ACC11228524       Ruth Aron\n",
              "4         14803587  ACC11228524       Ruth Aron"
            ],
            "text/html": [
              "\n",
              "  <div id=\"df-e70f339c-08a1-4a18-aa9f-5eb17a8c54ee\">\n",
              "    <div class=\"colab-df-container\">\n",
              "      <div>\n",
              "<style scoped>\n",
              "    .dataframe tbody tr th:only-of-type {\n",
              "        vertical-align: middle;\n",
              "    }\n",
              "\n",
              "    .dataframe tbody tr th {\n",
              "        vertical-align: top;\n",
              "    }\n",
              "\n",
              "    .dataframe thead th {\n",
              "        text-align: right;\n",
              "    }\n",
              "</style>\n",
              "<table border=\"1\" class=\"dataframe\">\n",
              "  <thead>\n",
              "    <tr style=\"text-align: right;\">\n",
              "      <th></th>\n",
              "      <th>vtigeraccountid</th>\n",
              "      <th>account_no</th>\n",
              "      <th>Name</th>\n",
              "    </tr>\n",
              "  </thead>\n",
              "  <tbody>\n",
              "    <tr>\n",
              "      <th>0</th>\n",
              "      <td>15234947</td>\n",
              "      <td>ACC11255533</td>\n",
              "      <td>Alberto Sylvie</td>\n",
              "    </tr>\n",
              "    <tr>\n",
              "      <th>1</th>\n",
              "      <td>15234947</td>\n",
              "      <td>ACC11255533</td>\n",
              "      <td>Alberto Sylvie</td>\n",
              "    </tr>\n",
              "    <tr>\n",
              "      <th>2</th>\n",
              "      <td>15191356</td>\n",
              "      <td>ACC11253099</td>\n",
              "      <td>Ruth Aron</td>\n",
              "    </tr>\n",
              "    <tr>\n",
              "      <th>3</th>\n",
              "      <td>14803587</td>\n",
              "      <td>ACC11228524</td>\n",
              "      <td>Ruth Aron</td>\n",
              "    </tr>\n",
              "    <tr>\n",
              "      <th>4</th>\n",
              "      <td>14803587</td>\n",
              "      <td>ACC11228524</td>\n",
              "      <td>Ruth Aron</td>\n",
              "    </tr>\n",
              "  </tbody>\n",
              "</table>\n",
              "</div>\n",
              "      <button class=\"colab-df-convert\" onclick=\"convertToInteractive('df-e70f339c-08a1-4a18-aa9f-5eb17a8c54ee')\"\n",
              "              title=\"Convert this dataframe to an interactive table.\"\n",
              "              style=\"display:none;\">\n",
              "        \n",
              "  <svg xmlns=\"http://www.w3.org/2000/svg\" height=\"24px\"viewBox=\"0 0 24 24\"\n",
              "       width=\"24px\">\n",
              "    <path d=\"M0 0h24v24H0V0z\" fill=\"none\"/>\n",
              "    <path d=\"M18.56 5.44l.94 2.06.94-2.06 2.06-.94-2.06-.94-.94-2.06-.94 2.06-2.06.94zm-11 1L8.5 8.5l.94-2.06 2.06-.94-2.06-.94L8.5 2.5l-.94 2.06-2.06.94zm10 10l.94 2.06.94-2.06 2.06-.94-2.06-.94-.94-2.06-.94 2.06-2.06.94z\"/><path d=\"M17.41 7.96l-1.37-1.37c-.4-.4-.92-.59-1.43-.59-.52 0-1.04.2-1.43.59L10.3 9.45l-7.72 7.72c-.78.78-.78 2.05 0 2.83L4 21.41c.39.39.9.59 1.41.59.51 0 1.02-.2 1.41-.59l7.78-7.78 2.81-2.81c.8-.78.8-2.07 0-2.86zM5.41 20L4 18.59l7.72-7.72 1.47 1.35L5.41 20z\"/>\n",
              "  </svg>\n",
              "      </button>\n",
              "      \n",
              "  <style>\n",
              "    .colab-df-container {\n",
              "      display:flex;\n",
              "      flex-wrap:wrap;\n",
              "      gap: 12px;\n",
              "    }\n",
              "\n",
              "    .colab-df-convert {\n",
              "      background-color: #E8F0FE;\n",
              "      border: none;\n",
              "      border-radius: 50%;\n",
              "      cursor: pointer;\n",
              "      display: none;\n",
              "      fill: #1967D2;\n",
              "      height: 32px;\n",
              "      padding: 0 0 0 0;\n",
              "      width: 32px;\n",
              "    }\n",
              "\n",
              "    .colab-df-convert:hover {\n",
              "      background-color: #E2EBFA;\n",
              "      box-shadow: 0px 1px 2px rgba(60, 64, 67, 0.3), 0px 1px 3px 1px rgba(60, 64, 67, 0.15);\n",
              "      fill: #174EA6;\n",
              "    }\n",
              "\n",
              "    [theme=dark] .colab-df-convert {\n",
              "      background-color: #3B4455;\n",
              "      fill: #D2E3FC;\n",
              "    }\n",
              "\n",
              "    [theme=dark] .colab-df-convert:hover {\n",
              "      background-color: #434B5C;\n",
              "      box-shadow: 0px 1px 3px 1px rgba(0, 0, 0, 0.15);\n",
              "      filter: drop-shadow(0px 1px 2px rgba(0, 0, 0, 0.3));\n",
              "      fill: #FFFFFF;\n",
              "    }\n",
              "  </style>\n",
              "\n",
              "      <script>\n",
              "        const buttonEl =\n",
              "          document.querySelector('#df-e70f339c-08a1-4a18-aa9f-5eb17a8c54ee button.colab-df-convert');\n",
              "        buttonEl.style.display =\n",
              "          google.colab.kernel.accessAllowed ? 'block' : 'none';\n",
              "\n",
              "        async function convertToInteractive(key) {\n",
              "          const element = document.querySelector('#df-e70f339c-08a1-4a18-aa9f-5eb17a8c54ee');\n",
              "          const dataTable =\n",
              "            await google.colab.kernel.invokeFunction('convertToInteractive',\n",
              "                                                     [key], {});\n",
              "          if (!dataTable) return;\n",
              "\n",
              "          const docLinkHtml = 'Like what you see? Visit the ' +\n",
              "            '<a target=\"_blank\" href=https://colab.research.google.com/notebooks/data_table.ipynb>data table notebook</a>'\n",
              "            + ' to learn more about interactive tables.';\n",
              "          element.innerHTML = '';\n",
              "          dataTable['output_type'] = 'display_data';\n",
              "          await google.colab.output.renderOutput(dataTable, element);\n",
              "          const docLink = document.createElement('div');\n",
              "          docLink.innerHTML = docLinkHtml;\n",
              "          element.appendChild(docLink);\n",
              "        }\n",
              "      </script>\n",
              "    </div>\n",
              "  </div>\n",
              "  "
            ]
          },
          "metadata": {},
          "execution_count": 8
        }
      ]
    },
    {
      "cell_type": "code",
      "source": [
        "# 2. Find 10 Client with the largest Net deposit (Net Deposit = Deposit - Withdrawal). Display their Account No.\n",
        "query2 = \"\"\"\n",
        "SELECT \n",
        "    ca.account_no, \n",
        "    SUM(CASE \n",
        "            WHEN ft.Transaction_type_name = 'Deposit' THEN ft.usdamount \n",
        "            WHEN ft.Transaction_type_name = 'Withdrawal' THEN -ft.usdamount \n",
        "            ELSE 0 \n",
        "        END) AS net_deposit\n",
        "FROM \n",
        "    Financial_transactions ft \n",
        "    JOIN Client_Accounts ca ON ft.vtigeraccountid = ca.accountid\n",
        "GROUP BY \n",
        "    ca.account_no \n",
        "ORDER BY \n",
        "    net_deposit DESC \n",
        "LIMIT \n",
        "    10\n",
        "\"\"\"\n",
        "result2 = pd.read_sql_query(query2, conn)\n",
        "print(\"Result of query 2:\\n\", result2)"
      ],
      "metadata": {
        "colab": {
          "base_uri": "https://localhost:8080/"
        },
        "id": "yPWtqFZIQjr9",
        "outputId": "b2cf5b3c-c3b8-4760-98d9-855690ea1fe0"
      },
      "execution_count": 9,
      "outputs": [
        {
          "output_type": "stream",
          "name": "stdout",
          "text": [
            "Result of query 2:\n",
            "     account_no  net_deposit\n",
            "0  ACC11030214  28722157.03\n",
            "1  ACC11182102   1930700.00\n",
            "2  ACC11169968    461243.56\n",
            "3  ACC11175809    294500.00\n",
            "4  ACC11045741    286293.20\n",
            "5  ACC11189361    278762.34\n",
            "6  ACC11066344    227893.68\n",
            "7  ACC11240533    200000.00\n",
            "8  ACC11060266    187481.40\n",
            "9  ACC11198688    182741.66\n"
          ]
        }
      ]
    },
    {
      "cell_type": "code",
      "source": [
        "result2.head(10)"
      ],
      "metadata": {
        "colab": {
          "base_uri": "https://localhost:8080/",
          "height": 352
        },
        "id": "fRiMZzu9QvMl",
        "outputId": "ab6dd8cc-9af3-47e2-9aaa-e1764b6b4d6b"
      },
      "execution_count": 10,
      "outputs": [
        {
          "output_type": "execute_result",
          "data": {
            "text/plain": [
              "    account_no  net_deposit\n",
              "0  ACC11030214  28722157.03\n",
              "1  ACC11182102   1930700.00\n",
              "2  ACC11169968    461243.56\n",
              "3  ACC11175809    294500.00\n",
              "4  ACC11045741    286293.20\n",
              "5  ACC11189361    278762.34\n",
              "6  ACC11066344    227893.68\n",
              "7  ACC11240533    200000.00\n",
              "8  ACC11060266    187481.40\n",
              "9  ACC11198688    182741.66"
            ],
            "text/html": [
              "\n",
              "  <div id=\"df-f1852806-d98e-4473-9fc6-08ba18a344ec\">\n",
              "    <div class=\"colab-df-container\">\n",
              "      <div>\n",
              "<style scoped>\n",
              "    .dataframe tbody tr th:only-of-type {\n",
              "        vertical-align: middle;\n",
              "    }\n",
              "\n",
              "    .dataframe tbody tr th {\n",
              "        vertical-align: top;\n",
              "    }\n",
              "\n",
              "    .dataframe thead th {\n",
              "        text-align: right;\n",
              "    }\n",
              "</style>\n",
              "<table border=\"1\" class=\"dataframe\">\n",
              "  <thead>\n",
              "    <tr style=\"text-align: right;\">\n",
              "      <th></th>\n",
              "      <th>account_no</th>\n",
              "      <th>net_deposit</th>\n",
              "    </tr>\n",
              "  </thead>\n",
              "  <tbody>\n",
              "    <tr>\n",
              "      <th>0</th>\n",
              "      <td>ACC11030214</td>\n",
              "      <td>28722157.03</td>\n",
              "    </tr>\n",
              "    <tr>\n",
              "      <th>1</th>\n",
              "      <td>ACC11182102</td>\n",
              "      <td>1930700.00</td>\n",
              "    </tr>\n",
              "    <tr>\n",
              "      <th>2</th>\n",
              "      <td>ACC11169968</td>\n",
              "      <td>461243.56</td>\n",
              "    </tr>\n",
              "    <tr>\n",
              "      <th>3</th>\n",
              "      <td>ACC11175809</td>\n",
              "      <td>294500.00</td>\n",
              "    </tr>\n",
              "    <tr>\n",
              "      <th>4</th>\n",
              "      <td>ACC11045741</td>\n",
              "      <td>286293.20</td>\n",
              "    </tr>\n",
              "    <tr>\n",
              "      <th>5</th>\n",
              "      <td>ACC11189361</td>\n",
              "      <td>278762.34</td>\n",
              "    </tr>\n",
              "    <tr>\n",
              "      <th>6</th>\n",
              "      <td>ACC11066344</td>\n",
              "      <td>227893.68</td>\n",
              "    </tr>\n",
              "    <tr>\n",
              "      <th>7</th>\n",
              "      <td>ACC11240533</td>\n",
              "      <td>200000.00</td>\n",
              "    </tr>\n",
              "    <tr>\n",
              "      <th>8</th>\n",
              "      <td>ACC11060266</td>\n",
              "      <td>187481.40</td>\n",
              "    </tr>\n",
              "    <tr>\n",
              "      <th>9</th>\n",
              "      <td>ACC11198688</td>\n",
              "      <td>182741.66</td>\n",
              "    </tr>\n",
              "  </tbody>\n",
              "</table>\n",
              "</div>\n",
              "      <button class=\"colab-df-convert\" onclick=\"convertToInteractive('df-f1852806-d98e-4473-9fc6-08ba18a344ec')\"\n",
              "              title=\"Convert this dataframe to an interactive table.\"\n",
              "              style=\"display:none;\">\n",
              "        \n",
              "  <svg xmlns=\"http://www.w3.org/2000/svg\" height=\"24px\"viewBox=\"0 0 24 24\"\n",
              "       width=\"24px\">\n",
              "    <path d=\"M0 0h24v24H0V0z\" fill=\"none\"/>\n",
              "    <path d=\"M18.56 5.44l.94 2.06.94-2.06 2.06-.94-2.06-.94-.94-2.06-.94 2.06-2.06.94zm-11 1L8.5 8.5l.94-2.06 2.06-.94-2.06-.94L8.5 2.5l-.94 2.06-2.06.94zm10 10l.94 2.06.94-2.06 2.06-.94-2.06-.94-.94-2.06-.94 2.06-2.06.94z\"/><path d=\"M17.41 7.96l-1.37-1.37c-.4-.4-.92-.59-1.43-.59-.52 0-1.04.2-1.43.59L10.3 9.45l-7.72 7.72c-.78.78-.78 2.05 0 2.83L4 21.41c.39.39.9.59 1.41.59.51 0 1.02-.2 1.41-.59l7.78-7.78 2.81-2.81c.8-.78.8-2.07 0-2.86zM5.41 20L4 18.59l7.72-7.72 1.47 1.35L5.41 20z\"/>\n",
              "  </svg>\n",
              "      </button>\n",
              "      \n",
              "  <style>\n",
              "    .colab-df-container {\n",
              "      display:flex;\n",
              "      flex-wrap:wrap;\n",
              "      gap: 12px;\n",
              "    }\n",
              "\n",
              "    .colab-df-convert {\n",
              "      background-color: #E8F0FE;\n",
              "      border: none;\n",
              "      border-radius: 50%;\n",
              "      cursor: pointer;\n",
              "      display: none;\n",
              "      fill: #1967D2;\n",
              "      height: 32px;\n",
              "      padding: 0 0 0 0;\n",
              "      width: 32px;\n",
              "    }\n",
              "\n",
              "    .colab-df-convert:hover {\n",
              "      background-color: #E2EBFA;\n",
              "      box-shadow: 0px 1px 2px rgba(60, 64, 67, 0.3), 0px 1px 3px 1px rgba(60, 64, 67, 0.15);\n",
              "      fill: #174EA6;\n",
              "    }\n",
              "\n",
              "    [theme=dark] .colab-df-convert {\n",
              "      background-color: #3B4455;\n",
              "      fill: #D2E3FC;\n",
              "    }\n",
              "\n",
              "    [theme=dark] .colab-df-convert:hover {\n",
              "      background-color: #434B5C;\n",
              "      box-shadow: 0px 1px 3px 1px rgba(0, 0, 0, 0.15);\n",
              "      filter: drop-shadow(0px 1px 2px rgba(0, 0, 0, 0.3));\n",
              "      fill: #FFFFFF;\n",
              "    }\n",
              "  </style>\n",
              "\n",
              "      <script>\n",
              "        const buttonEl =\n",
              "          document.querySelector('#df-f1852806-d98e-4473-9fc6-08ba18a344ec button.colab-df-convert');\n",
              "        buttonEl.style.display =\n",
              "          google.colab.kernel.accessAllowed ? 'block' : 'none';\n",
              "\n",
              "        async function convertToInteractive(key) {\n",
              "          const element = document.querySelector('#df-f1852806-d98e-4473-9fc6-08ba18a344ec');\n",
              "          const dataTable =\n",
              "            await google.colab.kernel.invokeFunction('convertToInteractive',\n",
              "                                                     [key], {});\n",
              "          if (!dataTable) return;\n",
              "\n",
              "          const docLinkHtml = 'Like what you see? Visit the ' +\n",
              "            '<a target=\"_blank\" href=https://colab.research.google.com/notebooks/data_table.ipynb>data table notebook</a>'\n",
              "            + ' to learn more about interactive tables.';\n",
              "          element.innerHTML = '';\n",
              "          dataTable['output_type'] = 'display_data';\n",
              "          await google.colab.output.renderOutput(dataTable, element);\n",
              "          const docLink = document.createElement('div');\n",
              "          docLink.innerHTML = docLinkHtml;\n",
              "          element.appendChild(docLink);\n",
              "        }\n",
              "      </script>\n",
              "    </div>\n",
              "  </div>\n",
              "  "
            ]
          },
          "metadata": {},
          "execution_count": 10
        }
      ]
    },
    {
      "cell_type": "code",
      "source": [
        "# 3. Rank the most frequent First Deposit Amount\n",
        "query3 = \"\"\"\n",
        "SELECT ft.usdamount as first_deposit_amount, COUNT(*) as frequency\n",
        "FROM Financial_transactions ft\n",
        "WHERE ft.Transaction_type_name = 'Deposit' AND ft.ftd = 1\n",
        "GROUP BY first_deposit_amount\n",
        "ORDER BY frequency DESC\n",
        "\"\"\"\n",
        "result3 = pd.read_sql_query(query3, conn)\n",
        "print(\"Result of query 3:\\n\", result3)"
      ],
      "metadata": {
        "colab": {
          "base_uri": "https://localhost:8080/"
        },
        "id": "ymWMwxw_XGE8",
        "outputId": "fd9f4784-83dd-4130-c23e-5966e6e8491c"
      },
      "execution_count": 11,
      "outputs": [
        {
          "output_type": "stream",
          "name": "stdout",
          "text": [
            "Result of query 3:\n",
            "      first_deposit_amount  frequency\n",
            "0                  250.00        460\n",
            "1                  100.00        307\n",
            "2                  150.00        101\n",
            "3                  300.00         97\n",
            "4                  500.00         82\n",
            "..                    ...        ...\n",
            "881                  6.71          1\n",
            "882                  6.28          1\n",
            "883                  2.70          1\n",
            "884                  1.72          1\n",
            "885                  1.25          1\n",
            "\n",
            "[886 rows x 2 columns]\n"
          ]
        }
      ]
    },
    {
      "cell_type": "code",
      "source": [
        "result3.head(10)"
      ],
      "metadata": {
        "colab": {
          "base_uri": "https://localhost:8080/",
          "height": 352
        },
        "id": "B9kc6VoEaikr",
        "outputId": "43574b61-d6bd-43ad-867f-a7aec4403638"
      },
      "execution_count": 12,
      "outputs": [
        {
          "output_type": "execute_result",
          "data": {
            "text/plain": [
              "   first_deposit_amount  frequency\n",
              "0                 250.0        460\n",
              "1                 100.0        307\n",
              "2                 150.0        101\n",
              "3                 300.0         97\n",
              "4                 500.0         82\n",
              "5                  20.0         52\n",
              "6                 200.0         38\n",
              "7                1000.0         33\n",
              "8                 123.0         28\n",
              "9                  50.0         15"
            ],
            "text/html": [
              "\n",
              "  <div id=\"df-f069db2a-c9f6-410f-881d-04e24c1d6ba9\">\n",
              "    <div class=\"colab-df-container\">\n",
              "      <div>\n",
              "<style scoped>\n",
              "    .dataframe tbody tr th:only-of-type {\n",
              "        vertical-align: middle;\n",
              "    }\n",
              "\n",
              "    .dataframe tbody tr th {\n",
              "        vertical-align: top;\n",
              "    }\n",
              "\n",
              "    .dataframe thead th {\n",
              "        text-align: right;\n",
              "    }\n",
              "</style>\n",
              "<table border=\"1\" class=\"dataframe\">\n",
              "  <thead>\n",
              "    <tr style=\"text-align: right;\">\n",
              "      <th></th>\n",
              "      <th>first_deposit_amount</th>\n",
              "      <th>frequency</th>\n",
              "    </tr>\n",
              "  </thead>\n",
              "  <tbody>\n",
              "    <tr>\n",
              "      <th>0</th>\n",
              "      <td>250.0</td>\n",
              "      <td>460</td>\n",
              "    </tr>\n",
              "    <tr>\n",
              "      <th>1</th>\n",
              "      <td>100.0</td>\n",
              "      <td>307</td>\n",
              "    </tr>\n",
              "    <tr>\n",
              "      <th>2</th>\n",
              "      <td>150.0</td>\n",
              "      <td>101</td>\n",
              "    </tr>\n",
              "    <tr>\n",
              "      <th>3</th>\n",
              "      <td>300.0</td>\n",
              "      <td>97</td>\n",
              "    </tr>\n",
              "    <tr>\n",
              "      <th>4</th>\n",
              "      <td>500.0</td>\n",
              "      <td>82</td>\n",
              "    </tr>\n",
              "    <tr>\n",
              "      <th>5</th>\n",
              "      <td>20.0</td>\n",
              "      <td>52</td>\n",
              "    </tr>\n",
              "    <tr>\n",
              "      <th>6</th>\n",
              "      <td>200.0</td>\n",
              "      <td>38</td>\n",
              "    </tr>\n",
              "    <tr>\n",
              "      <th>7</th>\n",
              "      <td>1000.0</td>\n",
              "      <td>33</td>\n",
              "    </tr>\n",
              "    <tr>\n",
              "      <th>8</th>\n",
              "      <td>123.0</td>\n",
              "      <td>28</td>\n",
              "    </tr>\n",
              "    <tr>\n",
              "      <th>9</th>\n",
              "      <td>50.0</td>\n",
              "      <td>15</td>\n",
              "    </tr>\n",
              "  </tbody>\n",
              "</table>\n",
              "</div>\n",
              "      <button class=\"colab-df-convert\" onclick=\"convertToInteractive('df-f069db2a-c9f6-410f-881d-04e24c1d6ba9')\"\n",
              "              title=\"Convert this dataframe to an interactive table.\"\n",
              "              style=\"display:none;\">\n",
              "        \n",
              "  <svg xmlns=\"http://www.w3.org/2000/svg\" height=\"24px\"viewBox=\"0 0 24 24\"\n",
              "       width=\"24px\">\n",
              "    <path d=\"M0 0h24v24H0V0z\" fill=\"none\"/>\n",
              "    <path d=\"M18.56 5.44l.94 2.06.94-2.06 2.06-.94-2.06-.94-.94-2.06-.94 2.06-2.06.94zm-11 1L8.5 8.5l.94-2.06 2.06-.94-2.06-.94L8.5 2.5l-.94 2.06-2.06.94zm10 10l.94 2.06.94-2.06 2.06-.94-2.06-.94-.94-2.06-.94 2.06-2.06.94z\"/><path d=\"M17.41 7.96l-1.37-1.37c-.4-.4-.92-.59-1.43-.59-.52 0-1.04.2-1.43.59L10.3 9.45l-7.72 7.72c-.78.78-.78 2.05 0 2.83L4 21.41c.39.39.9.59 1.41.59.51 0 1.02-.2 1.41-.59l7.78-7.78 2.81-2.81c.8-.78.8-2.07 0-2.86zM5.41 20L4 18.59l7.72-7.72 1.47 1.35L5.41 20z\"/>\n",
              "  </svg>\n",
              "      </button>\n",
              "      \n",
              "  <style>\n",
              "    .colab-df-container {\n",
              "      display:flex;\n",
              "      flex-wrap:wrap;\n",
              "      gap: 12px;\n",
              "    }\n",
              "\n",
              "    .colab-df-convert {\n",
              "      background-color: #E8F0FE;\n",
              "      border: none;\n",
              "      border-radius: 50%;\n",
              "      cursor: pointer;\n",
              "      display: none;\n",
              "      fill: #1967D2;\n",
              "      height: 32px;\n",
              "      padding: 0 0 0 0;\n",
              "      width: 32px;\n",
              "    }\n",
              "\n",
              "    .colab-df-convert:hover {\n",
              "      background-color: #E2EBFA;\n",
              "      box-shadow: 0px 1px 2px rgba(60, 64, 67, 0.3), 0px 1px 3px 1px rgba(60, 64, 67, 0.15);\n",
              "      fill: #174EA6;\n",
              "    }\n",
              "\n",
              "    [theme=dark] .colab-df-convert {\n",
              "      background-color: #3B4455;\n",
              "      fill: #D2E3FC;\n",
              "    }\n",
              "\n",
              "    [theme=dark] .colab-df-convert:hover {\n",
              "      background-color: #434B5C;\n",
              "      box-shadow: 0px 1px 3px 1px rgba(0, 0, 0, 0.15);\n",
              "      filter: drop-shadow(0px 1px 2px rgba(0, 0, 0, 0.3));\n",
              "      fill: #FFFFFF;\n",
              "    }\n",
              "  </style>\n",
              "\n",
              "      <script>\n",
              "        const buttonEl =\n",
              "          document.querySelector('#df-f069db2a-c9f6-410f-881d-04e24c1d6ba9 button.colab-df-convert');\n",
              "        buttonEl.style.display =\n",
              "          google.colab.kernel.accessAllowed ? 'block' : 'none';\n",
              "\n",
              "        async function convertToInteractive(key) {\n",
              "          const element = document.querySelector('#df-f069db2a-c9f6-410f-881d-04e24c1d6ba9');\n",
              "          const dataTable =\n",
              "            await google.colab.kernel.invokeFunction('convertToInteractive',\n",
              "                                                     [key], {});\n",
              "          if (!dataTable) return;\n",
              "\n",
              "          const docLinkHtml = 'Like what you see? Visit the ' +\n",
              "            '<a target=\"_blank\" href=https://colab.research.google.com/notebooks/data_table.ipynb>data table notebook</a>'\n",
              "            + ' to learn more about interactive tables.';\n",
              "          element.innerHTML = '';\n",
              "          dataTable['output_type'] = 'display_data';\n",
              "          await google.colab.output.renderOutput(dataTable, element);\n",
              "          const docLink = document.createElement('div');\n",
              "          docLink.innerHTML = docLinkHtml;\n",
              "          element.appendChild(docLink);\n",
              "        }\n",
              "      </script>\n",
              "    </div>\n",
              "  </div>\n",
              "  "
            ]
          },
          "metadata": {},
          "execution_count": 12
        }
      ]
    },
    {
      "cell_type": "code",
      "source": [
        "# 4. Find 5 countries with the largest Client Value (Client Value = Net deposit/count of clients)\n",
        "query4 = \"\"\"\n",
        "SELECT  \n",
        "    ca.country,\n",
        "    SUM(CASE \n",
        "            WHEN ft.Transaction_type_name = 'Deposit' THEN ft.usdamount \n",
        "            WHEN ft.Transaction_type_name = 'Withdrawal' THEN -ft.usdamount \n",
        "            ELSE 0 \n",
        "        END) / COUNT(DISTINCT ca.accountid) AS  client_value\n",
        "FROM \n",
        "    Financial_transactions ft \n",
        "    JOIN Client_Accounts ca ON ft.vtigeraccountid = ca.accountid \n",
        "WHERE \n",
        "    ft.Transaction_type_name IN ('Deposit', 'Withdrawal')\n",
        "GROUP BY \n",
        "    ca.country \n",
        "ORDER BY \n",
        "    client_value DESC \n",
        "LIMIT \n",
        "    5\n",
        "\"\"\"\n",
        "result4 = pd.read_sql_query(query4, conn)\n",
        "print(\"Result of query 4:\\n\", result4)"
      ],
      "metadata": {
        "colab": {
          "base_uri": "https://localhost:8080/"
        },
        "id": "mqetGJThas4z",
        "outputId": "568f8ac2-e344-494c-e8d1-6e16c2a4e2d7"
      },
      "execution_count": 13,
      "outputs": [
        {
          "output_type": "stream",
          "name": "stdout",
          "text": [
            "Result of query 4:\n",
            "        country  client_value\n",
            "0    Hong Kong  2.872216e+07\n",
            "1     Paraguay  2.769911e+05\n",
            "2  Philippines  1.930190e+04\n",
            "3      Lebanon  1.505000e+04\n",
            "4     Zimbabwe  7.374232e+03\n"
          ]
        }
      ]
    },
    {
      "cell_type": "code",
      "source": [
        "result4.head()"
      ],
      "metadata": {
        "colab": {
          "base_uri": "https://localhost:8080/",
          "height": 201
        },
        "id": "zKUpNUXVdmnw",
        "outputId": "ccf87f57-1e74-4b69-d9a3-61cb6b2860b1"
      },
      "execution_count": 14,
      "outputs": [
        {
          "output_type": "execute_result",
          "data": {
            "text/plain": [
              "       country  client_value\n",
              "0    Hong Kong  2.872216e+07\n",
              "1     Paraguay  2.769911e+05\n",
              "2  Philippines  1.930190e+04\n",
              "3      Lebanon  1.505000e+04\n",
              "4     Zimbabwe  7.374232e+03"
            ],
            "text/html": [
              "\n",
              "  <div id=\"df-850b231e-6220-4a8f-b0fc-087ea19cac7a\">\n",
              "    <div class=\"colab-df-container\">\n",
              "      <div>\n",
              "<style scoped>\n",
              "    .dataframe tbody tr th:only-of-type {\n",
              "        vertical-align: middle;\n",
              "    }\n",
              "\n",
              "    .dataframe tbody tr th {\n",
              "        vertical-align: top;\n",
              "    }\n",
              "\n",
              "    .dataframe thead th {\n",
              "        text-align: right;\n",
              "    }\n",
              "</style>\n",
              "<table border=\"1\" class=\"dataframe\">\n",
              "  <thead>\n",
              "    <tr style=\"text-align: right;\">\n",
              "      <th></th>\n",
              "      <th>country</th>\n",
              "      <th>client_value</th>\n",
              "    </tr>\n",
              "  </thead>\n",
              "  <tbody>\n",
              "    <tr>\n",
              "      <th>0</th>\n",
              "      <td>Hong Kong</td>\n",
              "      <td>2.872216e+07</td>\n",
              "    </tr>\n",
              "    <tr>\n",
              "      <th>1</th>\n",
              "      <td>Paraguay</td>\n",
              "      <td>2.769911e+05</td>\n",
              "    </tr>\n",
              "    <tr>\n",
              "      <th>2</th>\n",
              "      <td>Philippines</td>\n",
              "      <td>1.930190e+04</td>\n",
              "    </tr>\n",
              "    <tr>\n",
              "      <th>3</th>\n",
              "      <td>Lebanon</td>\n",
              "      <td>1.505000e+04</td>\n",
              "    </tr>\n",
              "    <tr>\n",
              "      <th>4</th>\n",
              "      <td>Zimbabwe</td>\n",
              "      <td>7.374232e+03</td>\n",
              "    </tr>\n",
              "  </tbody>\n",
              "</table>\n",
              "</div>\n",
              "      <button class=\"colab-df-convert\" onclick=\"convertToInteractive('df-850b231e-6220-4a8f-b0fc-087ea19cac7a')\"\n",
              "              title=\"Convert this dataframe to an interactive table.\"\n",
              "              style=\"display:none;\">\n",
              "        \n",
              "  <svg xmlns=\"http://www.w3.org/2000/svg\" height=\"24px\"viewBox=\"0 0 24 24\"\n",
              "       width=\"24px\">\n",
              "    <path d=\"M0 0h24v24H0V0z\" fill=\"none\"/>\n",
              "    <path d=\"M18.56 5.44l.94 2.06.94-2.06 2.06-.94-2.06-.94-.94-2.06-.94 2.06-2.06.94zm-11 1L8.5 8.5l.94-2.06 2.06-.94-2.06-.94L8.5 2.5l-.94 2.06-2.06.94zm10 10l.94 2.06.94-2.06 2.06-.94-2.06-.94-.94-2.06-.94 2.06-2.06.94z\"/><path d=\"M17.41 7.96l-1.37-1.37c-.4-.4-.92-.59-1.43-.59-.52 0-1.04.2-1.43.59L10.3 9.45l-7.72 7.72c-.78.78-.78 2.05 0 2.83L4 21.41c.39.39.9.59 1.41.59.51 0 1.02-.2 1.41-.59l7.78-7.78 2.81-2.81c.8-.78.8-2.07 0-2.86zM5.41 20L4 18.59l7.72-7.72 1.47 1.35L5.41 20z\"/>\n",
              "  </svg>\n",
              "      </button>\n",
              "      \n",
              "  <style>\n",
              "    .colab-df-container {\n",
              "      display:flex;\n",
              "      flex-wrap:wrap;\n",
              "      gap: 12px;\n",
              "    }\n",
              "\n",
              "    .colab-df-convert {\n",
              "      background-color: #E8F0FE;\n",
              "      border: none;\n",
              "      border-radius: 50%;\n",
              "      cursor: pointer;\n",
              "      display: none;\n",
              "      fill: #1967D2;\n",
              "      height: 32px;\n",
              "      padding: 0 0 0 0;\n",
              "      width: 32px;\n",
              "    }\n",
              "\n",
              "    .colab-df-convert:hover {\n",
              "      background-color: #E2EBFA;\n",
              "      box-shadow: 0px 1px 2px rgba(60, 64, 67, 0.3), 0px 1px 3px 1px rgba(60, 64, 67, 0.15);\n",
              "      fill: #174EA6;\n",
              "    }\n",
              "\n",
              "    [theme=dark] .colab-df-convert {\n",
              "      background-color: #3B4455;\n",
              "      fill: #D2E3FC;\n",
              "    }\n",
              "\n",
              "    [theme=dark] .colab-df-convert:hover {\n",
              "      background-color: #434B5C;\n",
              "      box-shadow: 0px 1px 3px 1px rgba(0, 0, 0, 0.15);\n",
              "      filter: drop-shadow(0px 1px 2px rgba(0, 0, 0, 0.3));\n",
              "      fill: #FFFFFF;\n",
              "    }\n",
              "  </style>\n",
              "\n",
              "      <script>\n",
              "        const buttonEl =\n",
              "          document.querySelector('#df-850b231e-6220-4a8f-b0fc-087ea19cac7a button.colab-df-convert');\n",
              "        buttonEl.style.display =\n",
              "          google.colab.kernel.accessAllowed ? 'block' : 'none';\n",
              "\n",
              "        async function convertToInteractive(key) {\n",
              "          const element = document.querySelector('#df-850b231e-6220-4a8f-b0fc-087ea19cac7a');\n",
              "          const dataTable =\n",
              "            await google.colab.kernel.invokeFunction('convertToInteractive',\n",
              "                                                     [key], {});\n",
              "          if (!dataTable) return;\n",
              "\n",
              "          const docLinkHtml = 'Like what you see? Visit the ' +\n",
              "            '<a target=\"_blank\" href=https://colab.research.google.com/notebooks/data_table.ipynb>data table notebook</a>'\n",
              "            + ' to learn more about interactive tables.';\n",
              "          element.innerHTML = '';\n",
              "          dataTable['output_type'] = 'display_data';\n",
              "          await google.colab.output.renderOutput(dataTable, element);\n",
              "          const docLink = document.createElement('div');\n",
              "          docLink.innerHTML = docLinkHtml;\n",
              "          element.appendChild(docLink);\n",
              "        }\n",
              "      </script>\n",
              "    </div>\n",
              "  </div>\n",
              "  "
            ]
          },
          "metadata": {},
          "execution_count": 14
        }
      ]
    },
    {
      "cell_type": "code",
      "source": [
        "# 5. Find a last confirmed deposit and a withdrawal of each client: account_no, transaction_no, usdamount and created_time\n",
        "query5 = '''\n",
        "SELECT c.account_no, t1.transaction_no, t1.usdamount, t1.created_time\n",
        "FROM Financial_transactions t1\n",
        "INNER JOIN (\n",
        "    SELECT MAX(created_time) as max_time, vtigeraccountid\n",
        "    FROM Financial_transactions\n",
        "    WHERE transactionapproval = 'Approved' AND Transaction_type_name = 'Deposit'\n",
        "    GROUP BY vtigeraccountid\n",
        ") t2 ON t1.created_time = t2.max_time AND t1.vtigeraccountid = t2.vtigeraccountid\n",
        "INNER JOIN Client_Accounts c ON c.accountid = t1.vtigeraccountid\n",
        "UNION\n",
        "SELECT c.account_no, t1.transaction_no, t1.usdamount, t1.created_time\n",
        "FROM Financial_transactions t1\n",
        "INNER JOIN (\n",
        "    SELECT MAX(created_time) as max_time, vtigeraccountid\n",
        "    FROM Financial_transactions\n",
        "    WHERE transactionapproval = 'Approved' AND Transaction_type_name = 'Withdrawal'\n",
        "    GROUP BY vtigeraccountid\n",
        ") t2 ON t1.created_time = t2.max_time AND t1.vtigeraccountid = t2.vtigeraccountid\n",
        "INNER JOIN Client_Accounts c ON c.accountid = t1.vtigeraccountid;\n",
        "'''\n",
        "result5 = pd.read_sql_query(query5, conn)\n",
        "print(\"Result of query 5:\\n\", result5)\n"
      ],
      "metadata": {
        "colab": {
          "base_uri": "https://localhost:8080/"
        },
        "id": "c4JyhAmEnwx0",
        "outputId": "158893b0-ca90-47ec-f3f1-b39e920c0805"
      },
      "execution_count": 15,
      "outputs": [
        {
          "output_type": "stream",
          "name": "stdout",
          "text": [
            "Result of query 5:\n",
            "        account_no transaction_no  usdamount         created_time\n",
            "0     ACC10065991      MTT554002      18.58  2022-12-19 09:03:32\n",
            "1     ACC10066553      MTT554300    1440.00  2022-12-20 04:32:57\n",
            "2     ACC10066553      MTT554912    6898.20  2022-12-21 15:02:23\n",
            "3     ACC10171322      MTT542766     135.42  2022-11-10 09:33:45\n",
            "4     ACC10210384      MTT564857     100.00  2023-01-28 16:37:10\n",
            "...           ...            ...        ...                  ...\n",
            "3419  ACC11259735      MTT558202     500.00  2023-01-05 12:39:35\n",
            "3420  ACC11259735      MTT560461     113.28  2023-01-13 12:19:00\n",
            "3421  ACC11259778      MTT560665     150.00  2023-01-14 14:44:09\n",
            "3422  ACC11259815      MTT558485    2000.00  2023-01-06 09:04:01\n",
            "3423  ACC11259815      MTT559899    1612.80  2023-01-12 07:50:23\n",
            "\n",
            "[3424 rows x 4 columns]\n"
          ]
        }
      ]
    },
    {
      "cell_type": "code",
      "source": [
        "result5.head()"
      ],
      "metadata": {
        "colab": {
          "base_uri": "https://localhost:8080/",
          "height": 201
        },
        "id": "2Hh3bxhJFYN8",
        "outputId": "f6451e53-8161-4d80-f725-3d6e83d6f1a4"
      },
      "execution_count": 16,
      "outputs": [
        {
          "output_type": "execute_result",
          "data": {
            "text/plain": [
              "    account_no transaction_no  usdamount         created_time\n",
              "0  ACC10065991      MTT554002      18.58  2022-12-19 09:03:32\n",
              "1  ACC10066553      MTT554300    1440.00  2022-12-20 04:32:57\n",
              "2  ACC10066553      MTT554912    6898.20  2022-12-21 15:02:23\n",
              "3  ACC10171322      MTT542766     135.42  2022-11-10 09:33:45\n",
              "4  ACC10210384      MTT564857     100.00  2023-01-28 16:37:10"
            ],
            "text/html": [
              "\n",
              "  <div id=\"df-45a0e2ff-b5cf-4f57-8b4a-758ef3cf8201\">\n",
              "    <div class=\"colab-df-container\">\n",
              "      <div>\n",
              "<style scoped>\n",
              "    .dataframe tbody tr th:only-of-type {\n",
              "        vertical-align: middle;\n",
              "    }\n",
              "\n",
              "    .dataframe tbody tr th {\n",
              "        vertical-align: top;\n",
              "    }\n",
              "\n",
              "    .dataframe thead th {\n",
              "        text-align: right;\n",
              "    }\n",
              "</style>\n",
              "<table border=\"1\" class=\"dataframe\">\n",
              "  <thead>\n",
              "    <tr style=\"text-align: right;\">\n",
              "      <th></th>\n",
              "      <th>account_no</th>\n",
              "      <th>transaction_no</th>\n",
              "      <th>usdamount</th>\n",
              "      <th>created_time</th>\n",
              "    </tr>\n",
              "  </thead>\n",
              "  <tbody>\n",
              "    <tr>\n",
              "      <th>0</th>\n",
              "      <td>ACC10065991</td>\n",
              "      <td>MTT554002</td>\n",
              "      <td>18.58</td>\n",
              "      <td>2022-12-19 09:03:32</td>\n",
              "    </tr>\n",
              "    <tr>\n",
              "      <th>1</th>\n",
              "      <td>ACC10066553</td>\n",
              "      <td>MTT554300</td>\n",
              "      <td>1440.00</td>\n",
              "      <td>2022-12-20 04:32:57</td>\n",
              "    </tr>\n",
              "    <tr>\n",
              "      <th>2</th>\n",
              "      <td>ACC10066553</td>\n",
              "      <td>MTT554912</td>\n",
              "      <td>6898.20</td>\n",
              "      <td>2022-12-21 15:02:23</td>\n",
              "    </tr>\n",
              "    <tr>\n",
              "      <th>3</th>\n",
              "      <td>ACC10171322</td>\n",
              "      <td>MTT542766</td>\n",
              "      <td>135.42</td>\n",
              "      <td>2022-11-10 09:33:45</td>\n",
              "    </tr>\n",
              "    <tr>\n",
              "      <th>4</th>\n",
              "      <td>ACC10210384</td>\n",
              "      <td>MTT564857</td>\n",
              "      <td>100.00</td>\n",
              "      <td>2023-01-28 16:37:10</td>\n",
              "    </tr>\n",
              "  </tbody>\n",
              "</table>\n",
              "</div>\n",
              "      <button class=\"colab-df-convert\" onclick=\"convertToInteractive('df-45a0e2ff-b5cf-4f57-8b4a-758ef3cf8201')\"\n",
              "              title=\"Convert this dataframe to an interactive table.\"\n",
              "              style=\"display:none;\">\n",
              "        \n",
              "  <svg xmlns=\"http://www.w3.org/2000/svg\" height=\"24px\"viewBox=\"0 0 24 24\"\n",
              "       width=\"24px\">\n",
              "    <path d=\"M0 0h24v24H0V0z\" fill=\"none\"/>\n",
              "    <path d=\"M18.56 5.44l.94 2.06.94-2.06 2.06-.94-2.06-.94-.94-2.06-.94 2.06-2.06.94zm-11 1L8.5 8.5l.94-2.06 2.06-.94-2.06-.94L8.5 2.5l-.94 2.06-2.06.94zm10 10l.94 2.06.94-2.06 2.06-.94-2.06-.94-.94-2.06-.94 2.06-2.06.94z\"/><path d=\"M17.41 7.96l-1.37-1.37c-.4-.4-.92-.59-1.43-.59-.52 0-1.04.2-1.43.59L10.3 9.45l-7.72 7.72c-.78.78-.78 2.05 0 2.83L4 21.41c.39.39.9.59 1.41.59.51 0 1.02-.2 1.41-.59l7.78-7.78 2.81-2.81c.8-.78.8-2.07 0-2.86zM5.41 20L4 18.59l7.72-7.72 1.47 1.35L5.41 20z\"/>\n",
              "  </svg>\n",
              "      </button>\n",
              "      \n",
              "  <style>\n",
              "    .colab-df-container {\n",
              "      display:flex;\n",
              "      flex-wrap:wrap;\n",
              "      gap: 12px;\n",
              "    }\n",
              "\n",
              "    .colab-df-convert {\n",
              "      background-color: #E8F0FE;\n",
              "      border: none;\n",
              "      border-radius: 50%;\n",
              "      cursor: pointer;\n",
              "      display: none;\n",
              "      fill: #1967D2;\n",
              "      height: 32px;\n",
              "      padding: 0 0 0 0;\n",
              "      width: 32px;\n",
              "    }\n",
              "\n",
              "    .colab-df-convert:hover {\n",
              "      background-color: #E2EBFA;\n",
              "      box-shadow: 0px 1px 2px rgba(60, 64, 67, 0.3), 0px 1px 3px 1px rgba(60, 64, 67, 0.15);\n",
              "      fill: #174EA6;\n",
              "    }\n",
              "\n",
              "    [theme=dark] .colab-df-convert {\n",
              "      background-color: #3B4455;\n",
              "      fill: #D2E3FC;\n",
              "    }\n",
              "\n",
              "    [theme=dark] .colab-df-convert:hover {\n",
              "      background-color: #434B5C;\n",
              "      box-shadow: 0px 1px 3px 1px rgba(0, 0, 0, 0.15);\n",
              "      filter: drop-shadow(0px 1px 2px rgba(0, 0, 0, 0.3));\n",
              "      fill: #FFFFFF;\n",
              "    }\n",
              "  </style>\n",
              "\n",
              "      <script>\n",
              "        const buttonEl =\n",
              "          document.querySelector('#df-45a0e2ff-b5cf-4f57-8b4a-758ef3cf8201 button.colab-df-convert');\n",
              "        buttonEl.style.display =\n",
              "          google.colab.kernel.accessAllowed ? 'block' : 'none';\n",
              "\n",
              "        async function convertToInteractive(key) {\n",
              "          const element = document.querySelector('#df-45a0e2ff-b5cf-4f57-8b4a-758ef3cf8201');\n",
              "          const dataTable =\n",
              "            await google.colab.kernel.invokeFunction('convertToInteractive',\n",
              "                                                     [key], {});\n",
              "          if (!dataTable) return;\n",
              "\n",
              "          const docLinkHtml = 'Like what you see? Visit the ' +\n",
              "            '<a target=\"_blank\" href=https://colab.research.google.com/notebooks/data_table.ipynb>data table notebook</a>'\n",
              "            + ' to learn more about interactive tables.';\n",
              "          element.innerHTML = '';\n",
              "          dataTable['output_type'] = 'display_data';\n",
              "          await google.colab.output.renderOutput(dataTable, element);\n",
              "          const docLink = document.createElement('div');\n",
              "          docLink.innerHTML = docLinkHtml;\n",
              "          element.appendChild(docLink);\n",
              "        }\n",
              "      </script>\n",
              "    </div>\n",
              "  </div>\n",
              "  "
            ]
          },
          "metadata": {},
          "execution_count": 16
        }
      ]
    },
    {
      "cell_type": "markdown",
      "source": [
        "# Visualization Tasks\n"
      ],
      "metadata": {
        "id": "-xnDFBL9LxxJ"
      }
    },
    {
      "cell_type": "code",
      "source": [
        "# 1. Dinamically vizualise financial activity of the Top 10 Clients from N2 of SQL task\n",
        "\n",
        "# General visualisation\n",
        "\n",
        "# Use the result2 dataframe obtained from the SQL query\n",
        "plt.barh(result2['account_no'], result2['net_deposit'])\n",
        "plt.xscale('log')\n",
        "# Set chart title and axis labels\n",
        "plt.title('Top 10 Clients with Largest Net Deposit')\n",
        "plt.xlabel('Net Deposit (USD)')\n",
        "plt.ylabel('Client Account No')\n",
        "\n",
        "# Add grid lines\n",
        "plt.grid(axis='x')\n",
        "\n",
        "# Show the chart\n",
        "plt.show()"
      ],
      "metadata": {
        "colab": {
          "base_uri": "https://localhost:8080/",
          "height": 298
        },
        "id": "xvyCiZL_RVBO",
        "outputId": "731ff9ed-25e4-4e22-b999-291f22fdd86d"
      },
      "execution_count": 17,
      "outputs": [
        {
          "output_type": "display_data",
          "data": {
            "text/plain": [
              "<Figure size 432x288 with 1 Axes>"
            ],
            "image/png": "[encoded data removed]"
          },
          "metadata": {
            "needs_background": "light"
          }
        }
      ]
    },
    {
      "cell_type": "code",
      "source": [
        "# Detailed visualisation\n",
        "\n",
        "data = result2.sort_values(by='net_deposit', ascending=False)[:10]\n",
        "\n",
        "# Create color map\n",
        "color_map = ['#b8e0b8' if i < min(data['net_deposit']) + (max(data['net_deposit']) - min(data['net_deposit'])) / len(data) else '#53c653' for i in data['net_deposit']]\n",
        "\n",
        "# Create horizontal bar chart\n",
        "plt.barh(data['account_no'], data['net_deposit'], color=color_map)\n",
        "\n",
        "# Set x-axis scale to log\n",
        "plt.xscale('log')\n",
        "\n",
        "# Set chart title and axis labels\n",
        "plt.xlabel('Net Deposit (USD)')\n",
        "plt.ylabel('Client Account No')\n",
        "\n",
        "# Add value annotations\n",
        "for i, v in enumerate(data['net_deposit']):\n",
        "    plt.text(v + 10**4, i, f\"{v:.0f}\", color='black', va='center', fontweight='light', fontfamily='serif', ha='left')\n",
        "\n",
        "# Add chart description\n",
        "plt.figtext(0.5, 0.98, 'Top 10 Clients with Largest Net Deposit', fontsize=15, fontweight='bold', fontfamily='serif', ha='center')\n",
        "#plt.figtext(0.5, 0.90, 'The color of the bars indicates the amount the net deposit (darker green representing the highest value)', fontsize=12, fontweight='light', fontfamily='serif', ha='center')\n",
        "plt.figtext(0.5, 0.93, 'The color of the bars indicates the amount the net deposit', fontsize=12, fontweight='light', fontfamily='serif', ha='center')\n",
        "plt.figtext(0.5, 0.89, 'The darker green representing the highest value', fontsize=10, fontweight='light', fontfamily='serif', ha='center')\n",
        "\n",
        "plt.grid(axis='y', linestyle='--', alpha=0.1)\n",
        "\n",
        "plt.gca().spines['right'].set_visible(False)\n",
        "\n",
        "# Show the chart\n",
        "plt.show()\n"
      ],
      "metadata": {
        "colab": {
          "base_uri": "https://localhost:8080/",
          "height": 323
        },
        "id": "LZ6m4-bh6ACF",
        "outputId": "83e71304-8738-4313-f4d1-439d03a6b1f6"
      },
      "execution_count": 18,
      "outputs": [
        {
          "output_type": "display_data",
          "data": {
            "text/plain": [
              "<Figure size 432x288 with 1 Axes>"
            ],
            "image/png": "[encoded data removed]"
          },
          "metadata": {
            "needs_background": "light"
          }
        }
      ]
    },
    {
      "cell_type": "code",
      "source": [
        "# 2. Show 10 Agents with best performance. Explain the parameters you chose to identify Agent performance.\n",
        "\n",
        "# SQL query for visualisation for last task\n",
        "queryLast = '''\n",
        "SELECT a.Name, SUM(ft.usdamount) as total_amount\n",
        "FROM Agents a\n",
        "INNER JOIN Client_Accounts ca ON a.id = ca.assigned_to\n",
        "INNER JOIN Financial_transactions ft ON ca.accountid = ft.vtigeraccountid AND a.id = ft.original_deposit_owner\n",
        "WHERE ft.transactionapproval = 'Approved' AND ft.Transaction_type_name = 'Deposit'\n",
        "GROUP BY a.Name\n",
        "ORDER BY total_amount DESC\n",
        "LIMIT 10\n",
        "'''\n",
        "resultLast = pd.read_sql_query(queryLast, conn)\n",
        "print(\"Result of query Last:\\n\", resultLast)"
      ],
      "metadata": {
        "colab": {
          "base_uri": "https://localhost:8080/"
        },
        "id": "A4snx043xPmn",
        "outputId": "0075e2c5-4974-419b-f05e-ae70b289da78"
      },
      "execution_count": 19,
      "outputs": [
        {
          "output_type": "stream",
          "name": "stdout",
          "text": [
            "Result of query Last:\n",
            "                Name  total_amount\n",
            "0      Eugene Patel   23200388.51\n",
            "1    Christian Cook     812652.62\n",
            "2     Zachary Kelly     473528.36\n",
            "3        Bruce Judy     264579.10\n",
            "4     Austin Bailey     181137.40\n",
            "5         Ruth Aron     111979.03\n",
            "6    Jacob Kathleen      95175.76\n",
            "7       Roy Theresa      73010.36\n",
            "8    Alberto Sylvie      66207.24\n",
            "9  Lawrence Frances      58631.07\n"
          ]
        }
      ]
    },
    {
      "cell_type": "code",
      "source": [
        "# General visualisation\n",
        "\n",
        "# Use the result2 dataframe obtained from the SQL query\n",
        "plt.barh(resultLast['Name'], resultLast['total_amount'])\n",
        "plt.xscale('log')\n",
        "# Set chart title and axis labels\n",
        "plt.title('Top 10 Agents by Total Deposit Amount')\n",
        "plt.xlabel('Total Deposit Amount (USD)')\n",
        "plt.ylabel('Agent Name')\n",
        "\n",
        "# Show the chart\n",
        "plt.show()"
      ],
      "metadata": {
        "colab": {
          "base_uri": "https://localhost:8080/",
          "height": 298
        },
        "id": "cqvaXeggxgHR",
        "outputId": "a6cf0cb7-a40e-4d11-e0b9-7f041a124b16"
      },
      "execution_count": 20,
      "outputs": [
        {
          "output_type": "display_data",
          "data": {
            "text/plain": [
              "<Figure size 432x288 with 1 Axes>"
            ],
            "image/png": "[encoded data removed]"
          },
          "metadata": {
            "needs_background": "light"
          }
        }
      ]
    },
    {
      "cell_type": "code",
      "source": [
        "# Detailed visualisation\n",
        "\n",
        "#Sort data by total amount and select top 10 agents\n",
        "\n",
        "data = resultLast.sort_values(by='total_amount', ascending=False)[:10]\n",
        "\n",
        "#Create color map\n",
        "\n",
        "color_map = ['#b8e0b8' if i < min(data['total_amount']) + (max(data['total_amount']) - min(data['total_amount'])) / len(data) else '#53c653' for i in data['total_amount']]\n",
        "\n",
        "#Create horizontal bar chart\n",
        "\n",
        "plt.barh(data['Name'], data['total_amount'], color=color_map)\n",
        "\n",
        "#Set x-axis scale to log\n",
        "\n",
        "plt.xscale('log')\n",
        "\n",
        "#Set chart title and axis labels\n",
        "\n",
        "plt.xlabel('Total Deposit Amount (USD)')\n",
        "plt.ylabel('Agent Name')\n",
        "\n",
        "#Add value annotations\n",
        "\n",
        "for i, v in enumerate(data['total_amount']):\n",
        "  plt.text(v + 10**4, i, f\"{v:.0f}\", color='black', va='center', fontweight='light', fontfamily='serif', ha='left')\n",
        "\n",
        "#Add chart description\n",
        "\n",
        "plt.figtext(0.5, 0.98, 'Top 10 Agents by Total Deposit Amount', fontsize=15, fontweight='bold', fontfamily='serif', ha='center')\n",
        "plt.figtext(0.5, 0.93, 'The color of the bars indicates the amount the total deposit', fontsize=12, fontweight='light', fontfamily='serif', ha='center')\n",
        "plt.figtext(0.5, 0.89, 'The darker green representing the highest value', fontsize=10, fontweight='light', fontfamily='serif', ha='center')\n",
        "\n",
        "plt.grid(axis='y', linestyle='--', alpha=0.1)\n",
        "\n",
        "plt.gca().spines['right'].set_visible(False)\n",
        "\n",
        "#Show the chart\n",
        "\n",
        "plt.show()"
      ],
      "metadata": {
        "colab": {
          "base_uri": "https://localhost:8080/",
          "height": 323
        },
        "id": "s-Nii1cVGP8U",
        "outputId": "219f9cb7-58e2-4a21-cfd0-a71ddbd9f4d7"
      },
      "execution_count": 21,
      "outputs": [
        {
          "output_type": "display_data",
          "data": {
            "text/plain": [
              "<Figure size 432x288 with 1 Axes>"
            ],
            "image/png": "[encoded data removed]"
          },
          "metadata": {
            "needs_background": "light"
          }
        }
      ]
    },
    {
      "cell_type": "markdown",
      "source": [
        "To determine the performance of agents I used the amount of deposits that have been confirmed and credited to the accounts of clients assigned to agent. To do this, I combined all tables through their relationships and filter the \"Deposit\" transactions that have been confirmed. Then I summed up the funds associated with the agent and sorted them in a descending order to output the 10 agents with the highest amount of funds.\n",
        "\n",
        "I created a bar chart that shows the 10 agents with the largest amount of deposits. The x-axis shows the amount of deposits, the y-axis shows the names of the agents. "
      ],
      "metadata": {
        "id": "zflfruLOJrDv"
      }
    },
    {
      "cell_type": "markdown",
      "source": [
        "The chosen parameter to identify Agent performance is the total amount of USD currency deposited by the clients assigned to an agent. This parameter gives an idea about the agent's ability to attract and retain clients who deposit more funds into their accounts. The agents who are successful in bringing in more business through deposits are likely to have better performance compared to those who are not. Additionally, this parameter helps in measuring the revenue generated by an agent and can serve as a good indicator of their overall productivity and success."
      ],
      "metadata": {
        "id": "UV6wCNgczkUE"
      }
    }
  ]
}